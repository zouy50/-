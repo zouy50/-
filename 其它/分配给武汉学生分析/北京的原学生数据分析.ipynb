{
 "cells": [
  {
   "cell_type": "code",
   "execution_count": 1,
   "metadata": {
    "ExecuteTime": {
     "end_time": "2019-11-13T04:44:51.217651Z",
     "start_time": "2019-11-13T04:44:50.388863Z"
    }
   },
   "outputs": [],
   "source": [
    "import pandas as pd\n",
    "import numpy as np\n",
    "import matplotlib.pyplot as plt\n",
    "%matplotlib inline\n",
    "plt.rcParams['font.sans-serif']=['SimHei'] #用来正常显示中文标签\n",
    "plt.rcParams['axes.unicode_minus']=False #用来正常显示符号\n",
    "import datetime"
   ]
  },
  {
   "cell_type": "code",
   "execution_count": 148,
   "metadata": {
    "ExecuteTime": {
     "end_time": "2019-11-13T08:15:51.763114Z",
     "start_time": "2019-11-13T08:15:51.747158Z"
    },
    "collapsed": true
   },
   "outputs": [
    {
     "name": "stdout",
     "output_type": "stream",
     "text": [
      "<class 'pandas.core.frame.DataFrame'>\n",
      "Int64Index: 864 entries, 4020503 to 2902180\n",
      "Data columns (total 28 columns):\n",
      "new_lp_id                           864 non-null int64\n",
      "new_lp_id                           864 non-null object\n",
      "new_tl                              864 non-null object\n",
      "new_mgr                             864 non-null object\n",
      "life_cycle                          864 non-null object\n",
      "oct                                 864 non-null float64\n",
      "Aug                                 864 non-null float64\n",
      "Sep                                 864 non-null float64\n",
      "has_expired                         864 non-null float64\n",
      "s.birthday                          864 non-null datetime64[ns]\n",
      "s.last_fin_as_major_class_lesson    864 non-null object\n",
      "s.change_lp_times                   864 non-null float64\n",
      "s.real_paid_date                    864 non-null datetime64[ns]\n",
      "s.first_order_stage_type            864 non-null object\n",
      "old_lp_id                           864 non-null float64\n",
      "old_lp_name                         864 non-null object\n",
      "old_tl_id                           864 non-null float64\n",
      "old_mgr                             864 non-null object\n",
      "level                               864 non-null int64\n",
      "learn_month                         864 non-null object\n",
      "Aug_talk_len                        864 non-null float64\n",
      "Sep_talk_len                        864 non-null float64\n",
      "oct_talk_len                        864 non-null float64\n",
      "age                                 864 non-null int64\n",
      "all_talk_len                        864 non-null float64\n",
      "all_has_talk                        864 non-null int64\n",
      "all_course_spend                    864 non-null float64\n",
      "is_all_sleep                        81 non-null float64\n",
      "dtypes: datetime64[ns](2), float64(13), int64(4), object(9)\n",
      "memory usage: 235.8+ KB\n"
     ]
    }
   ],
   "source": [
    "new_cg_df.info()"
   ]
  },
  {
   "cell_type": "code",
   "execution_count": 154,
   "metadata": {
    "ExecuteTime": {
     "end_time": "2019-11-13T08:22:15.827678Z",
     "start_time": "2019-11-13T08:22:15.781796Z"
    }
   },
   "outputs": [],
   "source": [
    "new_cg_df.to_csv('WH_students_all.csv')"
   ]
  },
  {
   "cell_type": "code",
   "execution_count": 11,
   "metadata": {
    "ExecuteTime": {
     "end_time": "2019-11-13T04:58:47.828643Z",
     "start_time": "2019-11-13T04:58:47.815683Z"
    }
   },
   "outputs": [],
   "source": [
    "# 读取学生，重命名新架构\n",
    "new_cg_df = pd.read_csv('WH_students.csv', encoding='gbk')\n",
    "new_cg_df.rename(columns={'lp_id': 'new_lp_id', 'tl': 'new_tl', 'mgr': 'new_mgr', 'lp': 'new_lp_id'}, inplace=True)\n",
    "new_cg_df.set_index('student_id', inplace=True)"
   ]
  },
  {
   "cell_type": "code",
   "execution_count": 12,
   "metadata": {
    "ExecuteTime": {
     "end_time": "2019-11-13T04:58:50.318214Z",
     "start_time": "2019-11-13T04:58:50.289291Z"
    }
   },
   "outputs": [],
   "source": [
    "# 匹配各个月课消，并且填充0课消\n",
    "# 读取各个月的课消表\n",
    "WH_COURSE_SPEND = 'WH_students_course_spend_'\n",
    "course_spend_list = []\n",
    "for i in [f'{WH_COURSE_SPEND}10.csv', f'{WH_COURSE_SPEND}8.csv', f'{WH_COURSE_SPEND}9.csv']:\n",
    "    temp_course_spend_df = pd.read_csv(i).set_index('id')\n",
    "    new_cg_df = pd.merge(new_cg_df, temp_course_spend_df, how='left',\n",
    "                              right_index=True, left_index=True).fillna(0)"
   ]
  },
  {
   "cell_type": "code",
   "execution_count": 21,
   "metadata": {
    "ExecuteTime": {
     "end_time": "2019-11-13T05:02:20.685215Z",
     "start_time": "2019-11-13T05:02:20.666266Z"
    }
   },
   "outputs": [],
   "source": [
    "# 匹配有无有效期\n",
    "expired_df = pd.read_csv('WH_students_expired.csv').dropna().set_index('opd.student_id')\n",
    "expired_df['has_expired'] = 1\n",
    "new_cg_df = pd.merge(new_cg_df, expired_df['has_expired'], how='left',\n",
    "                              right_index=True, left_index=True).fillna(0)"
   ]
  },
  {
   "cell_type": "code",
   "execution_count": 33,
   "metadata": {
    "ExecuteTime": {
     "end_time": "2019-11-13T05:15:49.367158Z",
     "start_time": "2019-11-13T05:15:49.347211Z"
    }
   },
   "outputs": [],
   "source": [
    "# 匹配学生原始架构，重命名原始架构\n",
    "old_cg = pd.read_csv('WH_students_info_o.csv')\n",
    "old_cg = old_cg.rename(columns={'cg.staff_id': 'old_lp_id', 'cg.staff_name': 'old_lp_name',\n",
    "                      'cg.tl_master_id': 'old_tl_id', 'cg.mgr_master_name': 'old_mgr'},\n",
    "              ).set_index('s.student_id')"
   ]
  },
  {
   "cell_type": "code",
   "execution_count": 38,
   "metadata": {
    "ExecuteTime": {
     "end_time": "2019-11-13T05:17:35.116592Z",
     "start_time": "2019-11-13T05:17:35.107618Z"
    }
   },
   "outputs": [],
   "source": [
    "new_cg_df = new_cg_df.merge(old_cg, how='left', right_index=True, left_index=True)"
   ]
  },
  {
   "cell_type": "code",
   "execution_count": 48,
   "metadata": {
    "ExecuteTime": {
     "end_time": "2019-11-13T05:27:59.230283Z",
     "start_time": "2019-11-13T05:27:59.217285Z"
    }
   },
   "outputs": [
    {
     "name": "stdout",
     "output_type": "stream",
     "text": [
      "8月平均课消： 5.939814814814815\n",
      "9月平均课消： 5.568287037037037\n",
      "10月平均课消： 5.780092592592593\n",
      "3月平均课消 5.762731481481482\n"
     ]
    }
   ],
   "source": [
    "print('8月平均课消：', new_cg_df['Aug'].mean())\n",
    "print('9月平均课消：',  new_cg_df['Sep'].mean())\n",
    "print('10月平均课消：', new_cg_df['oct'].mean())\n",
    "print('3月平均课消',\n",
    "      (new_cg_df['oct'].sum() + new_cg_df['Sep'].sum() + new_cg_df['Aug'].sum())/(len(new_cg_df['oct'])*3))"
   ]
  },
  {
   "cell_type": "code",
   "execution_count": 50,
   "metadata": {
    "ExecuteTime": {
     "end_time": "2019-11-13T05:31:42.154147Z",
     "start_time": "2019-11-13T05:31:42.133204Z"
    }
   },
   "outputs": [
    {
     "name": "stdout",
     "output_type": "stream",
     "text": [
      "8月沉睡率： 0.22453703703703703\n",
      "9月沉睡率： 0.18981481481481483\n",
      "10月沉睡率： 0.19212962962962962\n",
      "3月总沉睡率 0.09375\n"
     ]
    }
   ],
   "source": [
    "students_num = new_cg_df.shape[0]\n",
    "print('8月沉睡率：', len(new_cg_df[new_cg_df['Aug']==0])/students_num)\n",
    "print('9月沉睡率：', len(new_cg_df[new_cg_df['Sep']==0])/students_num)\n",
    "print('10月沉睡率：', len(new_cg_df[new_cg_df['oct']==0])/students_num)\n",
    "print('3月总沉睡率',\n",
    "      len(new_cg_df[(new_cg_df['Aug']==0)&(new_cg_df['Sep']==0)&(new_cg_df['oct']==0)])/students_num)"
   ]
  },
  {
   "cell_type": "code",
   "execution_count": 83,
   "metadata": {
    "ExecuteTime": {
     "end_time": "2019-11-13T06:24:18.546640Z",
     "start_time": "2019-11-13T06:24:18.539659Z"
    }
   },
   "outputs": [
    {
     "name": "stdout",
     "output_type": "stream",
     "text": [
      "无有效期占比 0.2442129629629629\n"
     ]
    }
   ],
   "source": [
    "print('无有效期占比', 1 - new_cg_df['has_expired'].sum()/new_cg_df.shape[0])"
   ]
  },
  {
   "cell_type": "code",
   "execution_count": 52,
   "metadata": {
    "ExecuteTime": {
     "end_time": "2019-11-13T05:34:57.270674Z",
     "start_time": "2019-11-13T05:34:57.266723Z"
    }
   },
   "outputs": [],
   "source": [
    "def find_level(last_serial_number):\n",
    "    try:\n",
    "        level = last_serial_number[4:5]\n",
    "        if level == '':\n",
    "            level = 0\n",
    "        else:\n",
    "            level = int(level)\n",
    "        return level\n",
    "    except TypeError:\n",
    "        return 0"
   ]
  },
  {
   "cell_type": "code",
   "execution_count": 55,
   "metadata": {
    "ExecuteTime": {
     "end_time": "2019-11-13T05:35:57.859531Z",
     "start_time": "2019-11-13T05:35:57.852550Z"
    }
   },
   "outputs": [],
   "source": [
    "new_cg_df['level'] = new_cg_df['s.last_fin_as_major_class_lesson'].apply(find_level)"
   ]
  },
  {
   "cell_type": "code",
   "execution_count": 59,
   "metadata": {
    "ExecuteTime": {
     "end_time": "2019-11-13T05:40:24.746699Z",
     "start_time": "2019-11-13T05:40:24.738720Z"
    }
   },
   "outputs": [],
   "source": [
    "def __cal_learn_month_range(confirm_date):\n",
    "    learn_month_list = ['<1'] + [f'{i}~{i + 1}' for i in range(1, 12)] + ['>12']\n",
    "    \"\"\"\n",
    "    用来计算学龄的标签 一共分为13个标签，一年以内的一个月一个月，一年以上的占一个列\n",
    "    :rtype: ''\n",
    "    \"\"\"\n",
    "    days = (datetime.datetime.now() - confirm_date).days\n",
    "    try:\n",
    "        return learn_month_list[days // 30]\n",
    "    except IndexError:\n",
    "        return learn_month_list[-1]"
   ]
  },
  {
   "cell_type": "code",
   "execution_count": 60,
   "metadata": {
    "ExecuteTime": {
     "end_time": "2019-11-13T05:40:27.119380Z",
     "start_time": "2019-11-13T05:40:27.088463Z"
    }
   },
   "outputs": [],
   "source": [
    "# 计算学龄月\n",
    "new_cg_df['s.real_paid_date'] = new_cg_df['s.real_paid_date'].astype('datetime64')\n",
    "new_cg_df['learn_month'] = new_cg_df['s.real_paid_date'].apply(__cal_learn_month_range)"
   ]
  },
  {
   "cell_type": "code",
   "execution_count": 78,
   "metadata": {
    "ExecuteTime": {
     "end_time": "2019-11-13T06:20:36.089897Z",
     "start_time": "2019-11-13T06:20:36.029059Z"
    }
   },
   "outputs": [],
   "source": [
    "# 计算各个月总通话时长\n",
    "call_df = pd.read_csv('WH_students_call_info.csv')\n",
    "call_df['_c1'] = call_df['_c1'].astype('datetime64')\n",
    "Aug_call_len_df = call_df[(call_df['_c1'] < '2019-09-01')&(call_df['_c1'] >= '2019-08-01')][['f.student_id', 'c.talk_time_len']].rename(columns={'c.talk_time_len': 'Aug_talk_len'}).groupby(['f.student_id']).sum()\n",
    "Sep_call_len_df = call_df[(call_df['_c1'] < '2019-10-01')&(call_df['_c1'] >= '2019-09-01')][['f.student_id', 'c.talk_time_len']].rename(columns={'c.talk_time_len': 'Sep_talk_len'}).groupby(['f.student_id']).sum()\n",
    "Oct_call_len_df = call_df[(call_df['_c1'] < '2019-11-01')&(call_df['_c1'] >= '2019-10-01')][['f.student_id', 'c.talk_time_len']].rename(columns={'c.talk_time_len': 'oct_talk_len'}).groupby(['f.student_id']).sum()\n",
    "for i in [Aug_call_len_df, Sep_call_len_df, Oct_call_len_df]:\n",
    "    new_cg_df = new_cg_df.merge(i, how='left', right_index=True, left_index=True)"
   ]
  },
  {
   "cell_type": "code",
   "execution_count": 99,
   "metadata": {
    "ExecuteTime": {
     "end_time": "2019-11-13T06:58:55.860453Z",
     "start_time": "2019-11-13T06:58:55.856462Z"
    }
   },
   "outputs": [],
   "source": [
    "# 计算年龄\n",
    "def cal_age(birthday):\n",
    "#     print(round(((datetime.datetime.now() - birthday).days)/365))\n",
    "    try:\n",
    "        return round(((datetime.datetime.now() - birthday).days)/365)\n",
    "    except:\n",
    "        return 0"
   ]
  },
  {
   "cell_type": "code",
   "execution_count": 100,
   "metadata": {
    "ExecuteTime": {
     "end_time": "2019-11-13T06:58:57.742630Z",
     "start_time": "2019-11-13T06:58:57.720493Z"
    }
   },
   "outputs": [],
   "source": [
    "new_cg_df['s.birthday'] = new_cg_df['s.birthday'].astype('datetime64')\n",
    "new_cg_df['age'] = new_cg_df['s.birthday'].apply(cal_age)"
   ]
  },
  {
   "cell_type": "code",
   "execution_count": 119,
   "metadata": {
    "ExecuteTime": {
     "end_time": "2019-11-13T07:19:59.605739Z",
     "start_time": "2019-11-13T07:19:59.594736Z"
    }
   },
   "outputs": [],
   "source": [
    "new_cg_df['all_talk_len'] = new_cg_df['Aug_talk_len'] + new_cg_df['Sep_talk_len'] + new_cg_df['oct_talk_len']"
   ]
  },
  {
   "cell_type": "code",
   "execution_count": 123,
   "metadata": {
    "ExecuteTime": {
     "end_time": "2019-11-13T07:23:21.693711Z",
     "start_time": "2019-11-13T07:23:21.681744Z"
    }
   },
   "outputs": [],
   "source": [
    "for i in ['all_talk_len', 'Aug_talk_len', 'Sep_talk_len', 'oct_talk_len']:\n",
    "    new_cg_df[i] = new_cg_df[i]//60"
   ]
  },
  {
   "cell_type": "code",
   "execution_count": 125,
   "metadata": {
    "ExecuteTime": {
     "end_time": "2019-11-13T07:26:07.435436Z",
     "start_time": "2019-11-13T07:26:07.428454Z"
    }
   },
   "outputs": [],
   "source": [
    "new_cg_df['all_has_talk'] = new_cg_df['all_talk_len'].apply(lambda x: 0 if x==0 else 1)"
   ]
  },
  {
   "cell_type": "code",
   "execution_count": 149,
   "metadata": {
    "ExecuteTime": {
     "end_time": "2019-11-13T08:16:23.185138Z",
     "start_time": "2019-11-13T08:16:23.170180Z"
    }
   },
   "outputs": [],
   "source": [
    "new_cg_df.loc[(new_cg_df['Aug']==0)&(new_cg_df['Sep']==0)&(new_cg_df['oct']==0), 'is_all_sleep'] = 1\n",
    "new_cg_df.fillna(0, inplace=True)"
   ]
  },
  {
   "cell_type": "code",
   "execution_count": 153,
   "metadata": {
    "ExecuteTime": {
     "end_time": "2019-11-13T08:20:05.078254Z",
     "start_time": "2019-11-13T08:20:04.555653Z"
    },
    "scrolled": false
   },
   "outputs": [
    {
     "data": {
      "text/plain": [
       "<matplotlib.axes._subplots.AxesSubplot at 0x1c8ea3abba8>"
      ]
     },
     "execution_count": 153,
     "metadata": {},
     "output_type": "execute_result"
    },
    {
     "data": {
      "image/png": "[encoded data removed]",
      "text/plain": [
       "<Figure size 1584x576 with 6 Axes>"
      ]
     },
     "metadata": {
      "needs_background": "light"
     },
     "output_type": "display_data"
    }
   ],
   "source": [
    "fig, axes = plt.subplots(2, 3)\n",
    "# new_cg_df[['age', 'old_tl_id']].groupby('age').count().rename(\n",
    "#     columns={'old_tl_id': '各年龄学生数占比'}).plot.pie(y='各年龄学生数占比', ax=axes[1, 2], legend=False)\n",
    "new_cg_df[['level', 'old_tl_id']].groupby('level').count().rename(\n",
    "    columns={'old_tl_id': '各级别学生数占比'}).plot.pie(y='各级别学生数占比', ax=axes[0, 0], figsize=(22, 8),legend=False)\n",
    "new_cg_df[['has_expired', 'old_tl_id']].groupby('has_expired').count().rename(\n",
    "    columns={'old_tl_id': '有效期占比(1:有)'}).plot.pie(y='有效期占比(1:有)', ax=axes[0, 1], figsize=(22, 8),legend=False)\n",
    "new_cg_df[['learn_month', 'old_tl_id']].groupby('learn_month').count().rename(\n",
    "    columns={'old_tl_id': '各学龄学生数占比'}).plot.pie(y='各学龄学生数占比', ax=axes[0, 2], figsize=(22, 8),legend=False)\n",
    "new_cg_df[['is_all_sleep', 'old_tl_id']].groupby('is_all_sleep').count().rename(\n",
    "    columns={'old_tl_id': '三月沉睡学生数占比(1:沉睡)'}).plot.pie(y='三月沉睡学生数占比(1:沉睡)', ax=axes[1, 2], figsize=(22, 8),legend=False)\n",
    "new_cg_df[['all_has_talk', 'old_tl_id']].groupby('all_has_talk').count().rename(\n",
    "    columns={'old_tl_id': '三月联系过学生数占比(1:联系)'}).plot.pie(y='三月联系过学生数占比(1:联系)', ax=axes[1, 1], figsize=(22, 8),legend=False)\n",
    "new_cg_df['all_talk_len'].plot.kde(ax=axes[1, 0], figsize=(22, 8))"
   ]
  },
  {
   "cell_type": "code",
   "execution_count": 139,
   "metadata": {
    "ExecuteTime": {
     "end_time": "2019-11-13T08:09:26.393100Z",
     "start_time": "2019-11-13T08:09:26.229503Z"
    }
   },
   "outputs": [
    {
     "data": {
      "text/plain": [
       "<matplotlib.axes._subplots.AxesSubplot at 0x1c8e93b94a8>"
      ]
     },
     "execution_count": 139,
     "metadata": {},
     "output_type": "execute_result"
    },
    {
     "data": {
      "image/png": "[encoded data removed]",
      "text/plain": [
       "<Figure size 432x288 with 1 Axes>"
      ]
     },
     "metadata": {
      "needs_background": "light"
     },
     "output_type": "display_data"
    }
   ],
   "source": [
    "new_cg_df['oct'].plot.kde()"
   ]
  },
  {
   "cell_type": "code",
   "execution_count": 143,
   "metadata": {
    "ExecuteTime": {
     "end_time": "2019-11-13T08:11:09.368372Z",
     "start_time": "2019-11-13T08:11:09.205766Z"
    }
   },
   "outputs": [
    {
     "data": {
      "text/plain": [
       "<matplotlib.axes._subplots.AxesSubplot at 0x1c8ea074780>"
      ]
     },
     "execution_count": 143,
     "metadata": {},
     "output_type": "execute_result"
    },
    {
     "data": {
      "image/png": "[encoded data removed]",
      "text/plain": [
       "<Figure size 432x288 with 1 Axes>"
      ]
     },
     "metadata": {
      "needs_background": "light"
     },
     "output_type": "display_data"
    }
   ],
   "source": [
    "new_cg_df['all_course_spend'].plot.kde()"
   ]
  },
  {
   "cell_type": "code",
   "execution_count": 142,
   "metadata": {
    "ExecuteTime": {
     "end_time": "2019-11-13T08:11:06.803186Z",
     "start_time": "2019-11-13T08:11:06.795209Z"
    }
   },
   "outputs": [],
   "source": [
    "new_cg_df['all_course_spend'] = (new_cg_df['oct'] + new_cg_df['Aug'] + new_cg_df['Sep'])/3"
   ]
  }
 ],
 "metadata": {
  "kernelspec": {
   "display_name": "PyCharm (Algorithm)",
   "language": "python",
   "name": "pycharm-11206b8a"
  },
  "language_info": {
   "codemirror_mode": {
    "name": "ipython",
    "version": 3
   },
   "file_extension": ".py",
   "mimetype": "text/x-python",
   "name": "python",
   "nbconvert_exporter": "python",
   "pygments_lexer": "ipython3",
   "version": "3.6.8"
  }
 },
 "nbformat": 4,
 "nbformat_minor": 2
}
